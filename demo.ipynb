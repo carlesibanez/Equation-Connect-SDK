{
 "cells": [
  {
   "cell_type": "markdown",
   "metadata": {},
   "source": [
    "# Library usage examples"
   ]
  },
  {
   "cell_type": "markdown",
   "metadata": {},
   "source": [
    "## Login"
   ]
  },
  {
   "cell_type": "code",
   "execution_count": null,
   "metadata": {},
   "outputs": [],
   "source": [
    "from EquationConnectSDK.EquationConnectAPI import API\n",
    "from pprint import pprint\n",
    "\n",
    "email = ''     # Your Equation Connect email\n",
    "password = ''           # Your Equation Connect password\n",
    "\n",
    "# Create an API object\n",
    "api = API(email, password)"
   ]
  },
  {
   "cell_type": "markdown",
   "metadata": {},
   "source": [
    "## Get installations"
   ]
  },
  {
   "cell_type": "code",
   "execution_count": null,
   "metadata": {},
   "outputs": [],
   "source": [
    "# Fetch installations\n",
    "installations = api.get_installations()\n",
    "pprint(installations)"
   ]
  },
  {
   "cell_type": "markdown",
   "metadata": {},
   "source": [
    "## Get zone"
   ]
  },
  {
   "cell_type": "code",
   "execution_count": null,
   "metadata": {},
   "outputs": [],
   "source": [
    "# Fetch zone (This uses the first zone of the first installation)\n",
    "installation_id = next(iter(installations))\n",
    "zone_id = list(installations[installation_id]['zones'].keys())[0]\n",
    "\n",
    "zone = api.get_zone(installation_id, zone_id)\n",
    "pprint(zone)"
   ]
  },
  {
   "cell_type": "markdown",
   "metadata": {},
   "source": [
    "## Get device properties"
   ]
  },
  {
   "cell_type": "code",
   "execution_count": null,
   "metadata": {},
   "outputs": [],
   "source": [
    "# Fetch devices (This uses the first device of the first zone)\n",
    "device_id = list(zone['devices'].keys())[0]\n",
    "\n",
    "device = api.get_device(device_id)\n",
    "pprint(device)"
   ]
  },
  {
   "cell_type": "markdown",
   "metadata": {},
   "source": [
    "## Turn on device"
   ]
  },
  {
   "cell_type": "code",
   "execution_count": null,
   "metadata": {},
   "outputs": [],
   "source": [
    "# Turn on the first device\n",
    "api.set_device_power(device_id, True)"
   ]
  }
 ],
 "metadata": {
  "kernelspec": {
   "display_name": "venv",
   "language": "python",
   "name": "python3"
  },
  "language_info": {
   "codemirror_mode": {
    "name": "ipython",
    "version": 3
   },
   "file_extension": ".py",
   "mimetype": "text/x-python",
   "name": "python",
   "nbconvert_exporter": "python",
   "pygments_lexer": "ipython3",
   "version": "3.12.7"
  }
 },
 "nbformat": 4,
 "nbformat_minor": 2
}
